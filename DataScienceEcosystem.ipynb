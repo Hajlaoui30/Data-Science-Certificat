{
 "cells": [
  {
   "cell_type": "markdown",
   "id": "8c34c0b7-a30b-4d70-af15-7bf2b0b5961e",
   "metadata": {},
   "source": [
    "# Data Science Tools and Ecosystem"
   ]
  },
  {
   "cell_type": "markdown",
   "id": "b91296a9-24f5-4b7c-8dd7-2d7e9912966f",
   "metadata": {},
   "source": [
    "In this notebook, Data Science Tools and Ecosystem are summarized."
   ]
  },
  {
   "cell_type": "markdown",
   "id": "f55febe3-8905-4b12-990c-31d6097549e9",
   "metadata": {},
   "source": [
    "Some of the popular languages that Data Scientists use are:\n",
    "1. Python\n",
    "2. R\n",
    "3. Julia\n",
    "4. SQL"
   ]
  },
  {
   "cell_type": "markdown",
   "id": "91d12ffe-1853-4110-841c-ec133aaf15fb",
   "metadata": {},
   "source": [
    "Some of the commonly used libraries used by Data Scientists include:\n",
    "1. NumPy\n",
    "2. Pandas\n",
    "3. Matplotlib\n",
    "4. Seaborn\n",
    "5. SciKit-Learn\n"
   ]
  },
  {
   "cell_type": "markdown",
   "id": "3de6fb67-1665-447a-8861-3baef053b687",
   "metadata": {},
   "source": [
    "| Data Science Tools |\n",
    "|--------------------|\n",
    "| Jupyter Notebook   |\n",
    "| RStudio            |\n",
    "| VSCode with Python |\n"
   ]
  },
  {
   "cell_type": "markdown",
   "id": "6ee531d3-c999-4e22-b46f-98e0d64837ce",
   "metadata": {},
   "source": [
    "### Below are a few examples of evaluating arithmetic expressions in Python."
   ]
  },
  {
   "cell_type": "code",
   "execution_count": 1,
   "id": "68ae6c4a-9308-46b9-959b-e044a6fd920d",
   "metadata": {
    "tags": []
   },
   "outputs": [
    {
     "name": "stdout",
     "output_type": "stream",
     "text": [
      "17\n"
     ]
    }
   ],
   "source": [
    "# This is a simple arithmetic expression to multiply and then add integers.\n",
    "result = (3 * 4) + 5\n",
    "print(result)\n"
   ]
  },
  {
   "cell_type": "code",
   "execution_count": 2,
   "id": "43852f5f-543a-4c82-8ac6-b6697bccfc4d",
   "metadata": {
    "tags": []
   },
   "outputs": [
    {
     "name": "stdout",
     "output_type": "stream",
     "text": [
      "3.3333333333333335\n"
     ]
    }
   ],
   "source": [
    "# This will convert 200 minutes to hours by dividing by 60.\n",
    "minutes = 200\n",
    "hours = minutes / 60\n",
    "print(hours)\n"
   ]
  },
  {
   "cell_type": "markdown",
   "id": "ef0f11c0-45e8-4a6d-8609-9d3cc25c1046",
   "metadata": {},
   "source": [
    "**Objectives:**\n",
    "\n",
    "- List popular languages for Data Science.\n",
    "- Demonstrate how to create and execute code cells.\n",
    "- Illustrate the process of basic arithmetic operations in Python.\n",
    "- Describe the concept of converting units, e.g., minutes to hours.\n"
   ]
  },
  {
   "cell_type": "markdown",
   "id": "269d595a-f1aa-4c38-9797-3857d3b91501",
   "metadata": {},
   "source": [
    "## Author\n",
    "\n",
    "Firas Hajlaoui"
   ]
  },
  {
   "cell_type": "code",
   "execution_count": null,
   "id": "c6515dbe-6c43-4740-8da6-001078203ca6",
   "metadata": {},
   "outputs": [],
   "source": []
  }
 ],
 "metadata": {
  "kernelspec": {
   "display_name": "Python",
   "language": "python",
   "name": "conda-env-python-py"
  },
  "language_info": {
   "codemirror_mode": {
    "name": "ipython",
    "version": 3
   },
   "file_extension": ".py",
   "mimetype": "text/x-python",
   "name": "python",
   "nbconvert_exporter": "python",
   "pygments_lexer": "ipython3",
   "version": "3.7.12"
  }
 },
 "nbformat": 4,
 "nbformat_minor": 5
}
